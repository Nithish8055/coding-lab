{
  "nbformat": 4,
  "nbformat_minor": 0,
  "metadata": {
    "colab": {
      "name": "MyFirstClass.ipynb",
      "provenance": [],
      "authorship_tag": "ABX9TyNt75QewjUzK+bou6twcHOx",
      "include_colab_link": true
    },
    "kernelspec": {
      "name": "python3",
      "display_name": "Python 3"
    },
    "language_info": {
      "name": "python"
    }
  },
  "cells": [
    {
      "cell_type": "markdown",
      "metadata": {
        "id": "view-in-github",
        "colab_type": "text"
      },
      "source": [
        "<a href=\"https://colab.research.google.com/github/Nithish8055/coding-lab/blob/main/MyFirstClass.ipynb\" target=\"_parent\"><img src=\"https://colab.research.google.com/assets/colab-badge.svg\" alt=\"Open In Colab\"/></a>"
      ]
    },
    {
      "cell_type": "code",
      "execution_count": null,
      "metadata": {
        "id": "Z9rtvM2ofKQK",
        "colab": {
          "base_uri": "https://localhost:8080/"
        },
        "outputId": "8e8d59f3-1372-4891-ef8f-a6e614b684c6"
      },
      "outputs": [
        {
          "output_type": "stream",
          "name": "stdout",
          "text": [
            "Sun Jul 17 08:00:50 2022\n"
          ]
        }
      ],
      "source": [
        "import time\n",
        "print(time.ctime())"
      ]
    },
    {
      "cell_type": "code",
      "source": [
        "time.sleep(5)\n",
        "print (time.ctime())"
      ],
      "metadata": {
        "colab": {
          "base_uri": "https://localhost:8080/"
        },
        "id": "rWCdH4pyKzMv",
        "outputId": "3f4ad81d-cdfa-4486-8e06-07333fd3af21"
      },
      "execution_count": null,
      "outputs": [
        {
          "output_type": "stream",
          "name": "stdout",
          "text": [
            "Sun Jul 17 08:00:56 2022\n"
          ]
        }
      ]
    },
    {
      "cell_type": "markdown",
      "source": [
        "This is **bold**.\n",
        "This is *italic*.\n",
        "This is ~strikethrough~.\n",
        "\n",
        "**Name** : *Nithish* "
      ],
      "metadata": {
        "id": "VfzeNkZ5MSd6"
      }
    },
    {
      "cell_type": "markdown",
      "source": [
        "$\\sqrt{3x-1}+(1+x)^2$\n",
        "\n",
        "$\\sqrt{x+1}+(2+x)^3$"
      ],
      "metadata": {
        "id": "lZAPxIm6NWy1"
      }
    },
    {
      "cell_type": "markdown",
      "source": [
        "$e^x=\\sum_{i=0}^\\infty \\frac{1}{i!}x^i$\n",
        "\n",
        "$e^x=\\sum_{i=0}^\\infty{i!}x^i$"
      ],
      "metadata": {
        "id": "qh6vwtvRNjAQ"
      }
    }
  ]
}